{
  "nbformat": 4,
  "nbformat_minor": 0,
  "metadata": {
    "colab": {
      "provenance": [],
      "authorship_tag": "ABX9TyP+E0gaLvbbRGdoxyJCv6Uv",
      "include_colab_link": true
    },
    "kernelspec": {
      "name": "python3",
      "display_name": "Python 3"
    },
    "language_info": {
      "name": "python"
    }
  },
  "cells": [
    {
      "cell_type": "markdown",
      "metadata": {
        "id": "view-in-github",
        "colab_type": "text"
      },
      "source": [
        "<a href=\"https://colab.research.google.com/github/Gayatri8-sys/Machine-Learning/blob/main/Stats2_assignment.ipynb\" target=\"_parent\"><img src=\"https://colab.research.google.com/assets/colab-badge.svg\" alt=\"Open In Colab\"/></a>"
      ]
    },
    {
      "cell_type": "code",
      "execution_count": null,
      "metadata": {
        "id": "PTR0n4esUv0-"
      },
      "outputs": [],
      "source": [
        "# Import Libraries\n",
        "import numpy as np\n",
        "from scipy import stats\n"
      ]
    },
    {
      "cell_type": "code",
      "source": [
        "# Given Data\n",
        "data = [1.13, 1.55, 1.43, 0.92, 1.25, 1.36, 1.32, 0.85, 1.07, 1.48, 1.20, 1.33, 1.18, 1.22, 1.29]\n",
        "n = len(data)\n",
        "confidence_level = 0.99\n",
        "\n",
        "# Sample Mean and Standard Deviation\n",
        "sample_mean = np.mean(data)\n",
        "sample_std = np.std(data, ddof=1)\n",
        "\n",
        "print(f\"Sample Mean: {sample_mean:.4f}\")\n",
        "print(f\"Sample Standard Deviation: {sample_std:.4f}\")\n"
      ],
      "metadata": {
        "colab": {
          "base_uri": "https://localhost:8080/"
        },
        "id": "_9T5VzLqU51V",
        "outputId": "9bdf2671-1de3-4342-b4dc-e9541f08ae98"
      },
      "execution_count": null,
      "outputs": [
        {
          "output_type": "stream",
          "name": "stdout",
          "text": [
            "Sample Mean: 1.2387\n",
            "Sample Standard Deviation: 0.1932\n"
          ]
        }
      ]
    },
    {
      "cell_type": "markdown",
      "source": [
        "t-distribution\n"
      ],
      "metadata": {
        "id": "VcJIxSikVD8D"
      }
    },
    {
      "cell_type": "code",
      "source": [
        "# t-critical value\n",
        "t_critical = stats.t.ppf((1 + confidence_level) / 2, df=n-1)\n",
        "\n",
        "# Margin of Error\n",
        "margin_of_error_a = t_critical * (sample_std / np.sqrt(n))\n",
        "\n",
        "# Confidence Interval\n",
        "ci_a = (sample_mean - margin_of_error_a, sample_mean + margin_of_error_a)\n",
        "\n",
        "print(f\"t-critical value: {t_critical:.4f}\")\n",
        "print(f\"Margin of Error: {margin_of_error_a:.4f}\")\n",
        "print(f\"99% Confidence Interval (Sample SD): ({ci_a[0]:.4f}, {ci_a[1]:.4f})\")\n"
      ],
      "metadata": {
        "colab": {
          "base_uri": "https://localhost:8080/"
        },
        "id": "ZyZdrv5xU9rp",
        "outputId": "251539ec-07b1-4973-a14e-42431ecf3dc5"
      },
      "execution_count": null,
      "outputs": [
        {
          "output_type": "stream",
          "name": "stdout",
          "text": [
            "t-critical value: 2.9768\n",
            "Margin of Error: 0.1485\n",
            "99% Confidence Interval (Sample SD): (1.0902, 1.3871)\n"
          ]
        }
      ]
    },
    {
      "cell_type": "markdown",
      "source": [
        "z-distribution"
      ],
      "metadata": {
        "id": "IwAB5BKpVIa5"
      }
    },
    {
      "cell_type": "code",
      "source": [
        "# Given Population Standard Deviation\n",
        "population_std = 0.2\n",
        "\n",
        "# z-critical value\n",
        "z_critical = stats.norm.ppf((1 + confidence_level) / 2)\n",
        "\n",
        "# Margin of Error\n",
        "margin_of_error_b = z_critical * (population_std / np.sqrt(n))\n",
        "\n",
        "# Confidence Interval\n",
        "ci_b = (sample_mean - margin_of_error_b, sample_mean + margin_of_error_b)\n",
        "\n",
        "print(f\"z-critical value: {z_critical:.4f}\")\n",
        "print(f\"Margin of Error: {margin_of_error_b:.4f}\")\n",
        "print(f\"99% Confidence Interval (Population SD): ({ci_b[0]:.4f}, {ci_b[1]:.4f})\")\n"
      ],
      "metadata": {
        "colab": {
          "base_uri": "https://localhost:8080/"
        },
        "id": "vym6GeZBVGJn",
        "outputId": "d309277c-34be-4613-c816-dd21344319d2"
      },
      "execution_count": null,
      "outputs": [
        {
          "output_type": "stream",
          "name": "stdout",
          "text": [
            "z-critical value: 2.5758\n",
            "Margin of Error: 0.1330\n",
            "99% Confidence Interval (Population SD): (1.1057, 1.3717)\n"
          ]
        }
      ]
    },
    {
      "cell_type": "code",
      "source": [],
      "metadata": {
        "id": "Rr3Yv2NjVKbJ"
      },
      "execution_count": null,
      "outputs": []
    }
  ]
}